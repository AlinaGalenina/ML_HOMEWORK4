{
  "nbformat": 4,
  "nbformat_minor": 0,
  "metadata": {
    "language_info": {
      "name": "python",
      "nbconvert_exporter": "python",
      "version": "3.8.5-final"
    },
    "orig_nbformat": 2,
    "kernelspec": {
      "name": "python38564bitvenv3fb217438fcc4205893bd76bf2844b4e",
      "display_name": "Python 3.8.5 64-bit ('venv')",
      "language": "python"
    },
    "colab": {
      "name": "pipeline.ipynb",
      "provenance": []
    },
    "accelerator": "GPU",
    "widgets": {
      "application/vnd.jupyter.widget-state+json": {
        "ec24e6766fba488e9a5a80c141249db1": {
          "model_module": "@jupyter-widgets/controls",
          "model_name": "HBoxModel",
          "state": {
            "_view_name": "HBoxView",
            "_dom_classes": [],
            "_model_name": "HBoxModel",
            "_view_module": "@jupyter-widgets/controls",
            "_model_module_version": "1.5.0",
            "_view_count": null,
            "_view_module_version": "1.5.0",
            "box_style": "",
            "layout": "IPY_MODEL_5f77fddab21c4a82906f294e6070abba",
            "_model_module": "@jupyter-widgets/controls",
            "children": [
              "IPY_MODEL_8d8a25cb0dc1460db83d43a74c930137",
              "IPY_MODEL_aeff18193bdf4bc782758f95ced37b6a"
            ]
          }
        },
        "5f77fddab21c4a82906f294e6070abba": {
          "model_module": "@jupyter-widgets/base",
          "model_name": "LayoutModel",
          "state": {
            "_view_name": "LayoutView",
            "grid_template_rows": null,
            "right": null,
            "justify_content": null,
            "_view_module": "@jupyter-widgets/base",
            "overflow": null,
            "_model_module_version": "1.2.0",
            "_view_count": null,
            "flex_flow": null,
            "width": null,
            "min_width": null,
            "border": null,
            "align_items": null,
            "bottom": null,
            "_model_module": "@jupyter-widgets/base",
            "top": null,
            "grid_column": null,
            "overflow_y": null,
            "overflow_x": null,
            "grid_auto_flow": null,
            "grid_area": null,
            "grid_template_columns": null,
            "flex": null,
            "_model_name": "LayoutModel",
            "justify_items": null,
            "grid_row": null,
            "max_height": null,
            "align_content": null,
            "visibility": null,
            "align_self": null,
            "height": null,
            "min_height": null,
            "padding": null,
            "grid_auto_rows": null,
            "grid_gap": null,
            "max_width": null,
            "order": null,
            "_view_module_version": "1.2.0",
            "grid_template_areas": null,
            "object_position": null,
            "object_fit": null,
            "grid_auto_columns": null,
            "margin": null,
            "display": null,
            "left": null
          }
        },
        "8d8a25cb0dc1460db83d43a74c930137": {
          "model_module": "@jupyter-widgets/controls",
          "model_name": "FloatProgressModel",
          "state": {
            "_view_name": "ProgressView",
            "style": "IPY_MODEL_a921f0f8170b40809a04e8d3afc9463f",
            "_dom_classes": [],
            "description": "100%",
            "_model_name": "FloatProgressModel",
            "bar_style": "success",
            "max": 90,
            "_view_module": "@jupyter-widgets/controls",
            "_model_module_version": "1.5.0",
            "value": 90,
            "_view_count": null,
            "_view_module_version": "1.5.0",
            "orientation": "horizontal",
            "min": 0,
            "description_tooltip": null,
            "_model_module": "@jupyter-widgets/controls",
            "layout": "IPY_MODEL_d3966a7f631e4024a87e471b1536647f"
          }
        },
        "aeff18193bdf4bc782758f95ced37b6a": {
          "model_module": "@jupyter-widgets/controls",
          "model_name": "HTMLModel",
          "state": {
            "_view_name": "HTMLView",
            "style": "IPY_MODEL_a80aa8022b514d0aab983c55cff66187",
            "_dom_classes": [],
            "description": "",
            "_model_name": "HTMLModel",
            "placeholder": "​",
            "_view_module": "@jupyter-widgets/controls",
            "_model_module_version": "1.5.0",
            "value": " 90/90 [28:30&lt;00:00, 19.01s/it]",
            "_view_count": null,
            "_view_module_version": "1.5.0",
            "description_tooltip": null,
            "_model_module": "@jupyter-widgets/controls",
            "layout": "IPY_MODEL_d90b4c43bfed4abeb10bb5f87201ad74"
          }
        },
        "a921f0f8170b40809a04e8d3afc9463f": {
          "model_module": "@jupyter-widgets/controls",
          "model_name": "ProgressStyleModel",
          "state": {
            "_view_name": "StyleView",
            "_model_name": "ProgressStyleModel",
            "description_width": "initial",
            "_view_module": "@jupyter-widgets/base",
            "_model_module_version": "1.5.0",
            "_view_count": null,
            "_view_module_version": "1.2.0",
            "bar_color": null,
            "_model_module": "@jupyter-widgets/controls"
          }
        },
        "d3966a7f631e4024a87e471b1536647f": {
          "model_module": "@jupyter-widgets/base",
          "model_name": "LayoutModel",
          "state": {
            "_view_name": "LayoutView",
            "grid_template_rows": null,
            "right": null,
            "justify_content": null,
            "_view_module": "@jupyter-widgets/base",
            "overflow": null,
            "_model_module_version": "1.2.0",
            "_view_count": null,
            "flex_flow": null,
            "width": null,
            "min_width": null,
            "border": null,
            "align_items": null,
            "bottom": null,
            "_model_module": "@jupyter-widgets/base",
            "top": null,
            "grid_column": null,
            "overflow_y": null,
            "overflow_x": null,
            "grid_auto_flow": null,
            "grid_area": null,
            "grid_template_columns": null,
            "flex": null,
            "_model_name": "LayoutModel",
            "justify_items": null,
            "grid_row": null,
            "max_height": null,
            "align_content": null,
            "visibility": null,
            "align_self": null,
            "height": null,
            "min_height": null,
            "padding": null,
            "grid_auto_rows": null,
            "grid_gap": null,
            "max_width": null,
            "order": null,
            "_view_module_version": "1.2.0",
            "grid_template_areas": null,
            "object_position": null,
            "object_fit": null,
            "grid_auto_columns": null,
            "margin": null,
            "display": null,
            "left": null
          }
        },
        "a80aa8022b514d0aab983c55cff66187": {
          "model_module": "@jupyter-widgets/controls",
          "model_name": "DescriptionStyleModel",
          "state": {
            "_view_name": "StyleView",
            "_model_name": "DescriptionStyleModel",
            "description_width": "",
            "_view_module": "@jupyter-widgets/base",
            "_model_module_version": "1.5.0",
            "_view_count": null,
            "_view_module_version": "1.2.0",
            "_model_module": "@jupyter-widgets/controls"
          }
        },
        "d90b4c43bfed4abeb10bb5f87201ad74": {
          "model_module": "@jupyter-widgets/base",
          "model_name": "LayoutModel",
          "state": {
            "_view_name": "LayoutView",
            "grid_template_rows": null,
            "right": null,
            "justify_content": null,
            "_view_module": "@jupyter-widgets/base",
            "overflow": null,
            "_model_module_version": "1.2.0",
            "_view_count": null,
            "flex_flow": null,
            "width": null,
            "min_width": null,
            "border": null,
            "align_items": null,
            "bottom": null,
            "_model_module": "@jupyter-widgets/base",
            "top": null,
            "grid_column": null,
            "overflow_y": null,
            "overflow_x": null,
            "grid_auto_flow": null,
            "grid_area": null,
            "grid_template_columns": null,
            "flex": null,
            "_model_name": "LayoutModel",
            "justify_items": null,
            "grid_row": null,
            "max_height": null,
            "align_content": null,
            "visibility": null,
            "align_self": null,
            "height": null,
            "min_height": null,
            "padding": null,
            "grid_auto_rows": null,
            "grid_gap": null,
            "max_width": null,
            "order": null,
            "_view_module_version": "1.2.0",
            "grid_template_areas": null,
            "object_position": null,
            "object_fit": null,
            "grid_auto_columns": null,
            "margin": null,
            "display": null,
            "left": null
          }
        }
      }
    }
  },
  "cells": [
    {
      "cell_type": "code",
      "metadata": {
        "id": "jFWgcA974N_B",
        "outputId": "4160430c-0594-4be3-e961-abf2cfb58566",
        "colab": {
          "base_uri": "https://localhost:8080/"
        }
      },
      "source": [
        "!git clone https://github.com/AlinaGalenina/ML_HOMEWORK4"
      ],
      "execution_count": 1,
      "outputs": [
        {
          "output_type": "stream",
          "text": [
            "fatal: destination path 'ML_HOMEWORK4' already exists and is not an empty directory.\n"
          ],
          "name": "stdout"
        }
      ]
    },
    {
      "cell_type": "code",
      "metadata": {
        "id": "9qe66wMY_gyi",
        "outputId": "9fc5ad39-7f8e-46e7-c184-aa5b6a4c4d8b",
        "colab": {
          "base_uri": "https://localhost:8080/"
        }
      },
      "source": [
        "! cd ML_HOMEWORK4/ && wget https://raw.githubusercontent.com/davda54/sam/main/sam.py"
      ],
      "execution_count": 2,
      "outputs": [
        {
          "output_type": "stream",
          "text": [
            "--2021-01-13 14:02:27--  https://raw.githubusercontent.com/davda54/sam/main/sam.py\n",
            "Resolving raw.githubusercontent.com (raw.githubusercontent.com)... 151.101.0.133, 151.101.64.133, 151.101.128.133, ...\n",
            "Connecting to raw.githubusercontent.com (raw.githubusercontent.com)|151.101.0.133|:443... connected.\n",
            "HTTP request sent, awaiting response... 200 OK\n",
            "Length: 1985 (1.9K) [text/plain]\n",
            "Saving to: ‘sam.py.2’\n",
            "\n",
            "\rsam.py.2              0%[                    ]       0  --.-KB/s               \rsam.py.2            100%[===================>]   1.94K  --.-KB/s    in 0s      \n",
            "\n",
            "2021-01-13 14:02:27 (40.8 MB/s) - ‘sam.py.2’ saved [1985/1985]\n",
            "\n"
          ],
          "name": "stdout"
        }
      ]
    },
    {
      "cell_type": "code",
      "metadata": {
        "id": "o_ymb3wt4wEa",
        "outputId": "01527d05-e836-44bd-ca45-fc9abca4dc98",
        "colab": {
          "base_uri": "https://localhost:8080/"
        }
      },
      "source": [
        "!pip3 install -r ML_HOMEWORK4/requirements.txt"
      ],
      "execution_count": 1,
      "outputs": [
        {
          "output_type": "stream",
          "text": [
            "Requirement already satisfied: argon2-cffi==20.1.0 in /usr/local/lib/python3.6/dist-packages (from -r ML_HOMEWORK4/requirements.txt (line 1)) (20.1.0)\n",
            "Collecting astroid==2.4.2\n",
            "  Using cached https://files.pythonhosted.org/packages/24/a8/5133f51967fb21e46ee50831c3f5dda49e976b7f915408d670b1603d41d6/astroid-2.4.2-py3-none-any.whl\n",
            "Requirement already satisfied: async-generator==1.10 in /usr/local/lib/python3.6/dist-packages (from -r ML_HOMEWORK4/requirements.txt (line 3)) (1.10)\n",
            "Requirement already satisfied: attrs==20.3.0 in /usr/local/lib/python3.6/dist-packages (from -r ML_HOMEWORK4/requirements.txt (line 4)) (20.3.0)\n",
            "Requirement already satisfied: backcall==0.2.0 in /usr/local/lib/python3.6/dist-packages (from -r ML_HOMEWORK4/requirements.txt (line 5)) (0.2.0)\n",
            "Requirement already satisfied: bleach==3.2.1 in /usr/local/lib/python3.6/dist-packages (from -r ML_HOMEWORK4/requirements.txt (line 6)) (3.2.1)\n",
            "Requirement already satisfied: cffi==1.14.4 in /usr/local/lib/python3.6/dist-packages (from -r ML_HOMEWORK4/requirements.txt (line 7)) (1.14.4)\n",
            "Requirement already satisfied: cycler==0.10.0 in /usr/local/lib/python3.6/dist-packages (from -r ML_HOMEWORK4/requirements.txt (line 8)) (0.10.0)\n",
            "Requirement already satisfied: decorator==4.4.2 in /usr/local/lib/python3.6/dist-packages (from -r ML_HOMEWORK4/requirements.txt (line 9)) (4.4.2)\n",
            "Requirement already satisfied: defusedxml==0.6.0 in /usr/local/lib/python3.6/dist-packages (from -r ML_HOMEWORK4/requirements.txt (line 10)) (0.6.0)\n",
            "Requirement already satisfied: entrypoints==0.3 in /usr/local/lib/python3.6/dist-packages (from -r ML_HOMEWORK4/requirements.txt (line 11)) (0.3)\n",
            "Collecting ipykernel==5.4.2\n",
            "  Using cached https://files.pythonhosted.org/packages/56/c5/97a972202414c79c28814b1450a31a89777638fb3524e8b5b686a5436abe/ipykernel-5.4.2-py3-none-any.whl\n",
            "\u001b[31mERROR: Could not find a version that satisfies the requirement ipython==7.19.0 (from -r ML_HOMEWORK4/requirements.txt (line 13)) (from versions: 0.10, 0.10.1, 0.10.2, 0.11, 0.12, 0.12.1, 0.13, 0.13.1, 0.13.2, 1.0.0, 1.1.0, 1.2.0, 1.2.1, 2.0.0, 2.1.0, 2.2.0, 2.3.0, 2.3.1, 2.4.0, 2.4.1, 3.0.0, 3.1.0, 3.2.0, 3.2.1, 3.2.2, 3.2.3, 4.0.0b1, 4.0.0, 4.0.1, 4.0.2, 4.0.3, 4.1.0rc1, 4.1.0rc2, 4.1.0, 4.1.1, 4.1.2, 4.2.0, 4.2.1, 5.0.0b1, 5.0.0b2, 5.0.0b3, 5.0.0b4, 5.0.0rc1, 5.0.0, 5.1.0, 5.2.0, 5.2.1, 5.2.2, 5.3.0, 5.4.0, 5.4.1, 5.5.0, 5.6.0, 5.7.0, 5.8.0, 5.9.0, 5.10.0, 6.0.0rc1, 6.0.0, 6.1.0, 6.2.0, 6.2.1, 6.3.0, 6.3.1, 6.4.0, 6.5.0, 7.0.0b1, 7.0.0rc1, 7.0.0, 7.0.1, 7.1.0, 7.1.1, 7.2.0, 7.3.0, 7.4.0, 7.5.0, 7.6.0, 7.6.1, 7.7.0, 7.8.0, 7.9.0, 7.10.0, 7.10.1, 7.10.2, 7.11.0, 7.11.1, 7.12.0, 7.13.0, 7.14.0, 7.15.0, 7.16.0, 7.16.1)\u001b[0m\n",
            "\u001b[31mERROR: No matching distribution found for ipython==7.19.0 (from -r ML_HOMEWORK4/requirements.txt (line 13))\u001b[0m\n"
          ],
          "name": "stdout"
        }
      ]
    },
    {
      "cell_type": "code",
      "metadata": {
        "id": "OxeGSMAc36jM"
      },
      "source": [
        "import matplotlib\n",
        "import torch\n",
        "import torch.nn as nn\n",
        "import torchvision\n",
        "import torchvision.transforms as transforms\n",
        "\n",
        "import sys\n",
        "from tqdm.notebook import tqdm, trange\n",
        "from time import sleep\n",
        "\n",
        "from ML_HOMEWORK4.sam import SAM\n",
        "from ML_HOMEWORK4.zoo import models\n",
        "from ML_HOMEWORK4.common.data_loader import DataLoader\n",
        "from ML_HOMEWORK4.util import visualize_model"
      ],
      "execution_count": 161,
      "outputs": []
    },
    {
      "cell_type": "markdown",
      "metadata": {
        "id": "fMWSFEWs36jS"
      },
      "source": [
        "## Device configuration"
      ]
    },
    {
      "cell_type": "code",
      "metadata": {
        "id": "nu4xE_KD36jT"
      },
      "source": [
        "device = torch.device('cuda:0' if torch.cuda.is_available() else 'cpu')"
      ],
      "execution_count": 3,
      "outputs": []
    },
    {
      "cell_type": "markdown",
      "metadata": {
        "id": "q-bBlcEz36jT"
      },
      "source": [
        "## Configuration"
      ]
    },
    {
      "cell_type": "code",
      "metadata": {
        "id": "8HrmISOG36jU"
      },
      "source": [
        "num_epochs = 90\n",
        "num_classes = 10\n",
        "batch_size = 256\n",
        "learning_rate = 0.001\n",
        "momentum = 0.9\n",
        "\n",
        "\n",
        "transform = transforms.Compose([\n",
        "    transforms.RandomHorizontalFlip(),\n",
        "    transforms.Pad(3),\n",
        "    transforms.RandomCrop(32),\n",
        "    transforms.RandomAffine(degrees=2),\n",
        "    transforms.ToTensor(),\n",
        "    # transforms.Normalize((0.485, 0.456, 0.406), (0.229, 0.224, 0.225))\n",
        "])"
      ],
      "execution_count": 193,
      "outputs": []
    },
    {
      "cell_type": "markdown",
      "metadata": {
        "id": "gMYJE4F236jU"
      },
      "source": [
        "## Load data"
      ]
    },
    {
      "cell_type": "code",
      "metadata": {
        "id": "Phm8mkqR36jU",
        "outputId": "22823b0b-17db-4a42-cefa-6872e0c6685a",
        "colab": {
          "base_uri": "https://localhost:8080/"
        }
      },
      "source": [
        "data_loader = DataLoader()\n",
        "data_loader.set_transform(transform)\n",
        "train_data = data_loader.get_train_data(batch_size)\n",
        "test_data = data_loader.get_test_data(batch_size)"
      ],
      "execution_count": 187,
      "outputs": [
        {
          "output_type": "stream",
          "text": [
            "Files already downloaded and verified\n"
          ],
          "name": "stdout"
        }
      ]
    },
    {
      "cell_type": "code",
      "metadata": {
        "id": "j0QzsqYRGal3",
        "outputId": "9f1b3211-2b5f-4887-e0f9-e40a2d5662f5",
        "colab": {
          "base_uri": "https://localhost:8080/",
          "height": 283
        }
      },
      "source": [
        "import matplotlib.pyplot as plt\r\n",
        "plt.ion()\r\n",
        "plt.imshow(train_data.dataset[0][0][0, :, :])\r\n",
        "plt.imshow(train_data.dataset[1][0][0, :, :])"
      ],
      "execution_count": 188,
      "outputs": [
        {
          "output_type": "execute_result",
          "data": {
            "text/plain": [
              "<matplotlib.image.AxesImage at 0x7f4a628bdc88>"
            ]
          },
          "metadata": {
            "tags": []
          },
          "execution_count": 188
        },
        {
          "output_type": "display_data",
          "data": {
            "image/png": "[encoded data removed]",
            "text/plain": [
              "<Figure size 432x288 with 1 Axes>"
            ]
          },
          "metadata": {
            "tags": [],
            "needs_background": "light"
          }
        }
      ]
    },
    {
      "cell_type": "code",
      "metadata": {
        "id": "yn451RoO36jV",
        "outputId": "24d584a6-83d8-4f70-e3fb-94f5e1109695",
        "colab": {
          "base_uri": "https://localhost:8080/"
        }
      },
      "source": [
        "print(train_data.__dict__)"
      ],
      "execution_count": 125,
      "outputs": [
        {
          "output_type": "stream",
          "text": [
            "{'dataset': Dataset CIFAR10\n",
            "    Number of datapoints: 50000\n",
            "    Root location: data/\n",
            "    Split: Train\n",
            "    StandardTransform\n",
            "Transform: Compose(\n",
            "               RandomHorizontalFlip(p=0.5)\n",
            "               Pad(padding=2, fill=0, padding_mode=constant)\n",
            "               RandomCrop(size=(32, 32), padding=None)\n",
            "               RandomAffine(degrees=[-5.0, 5.0])\n",
            "               ToTensor()\n",
            "           ), 'num_workers': 0, 'prefetch_factor': 2, 'pin_memory': False, 'timeout': 0, 'worker_init_fn': None, '_DataLoader__multiprocessing_context': None, '_dataset_kind': 0, 'batch_size': 512, 'drop_last': False, 'sampler': <torch.utils.data.sampler.RandomSampler object at 0x7f4a9845cb00>, 'batch_sampler': <torch.utils.data.sampler.BatchSampler object at 0x7f4a9829ecf8>, 'generator': None, 'collate_fn': <function default_collate at 0x7f4abaab5730>, 'persistent_workers': False, '_DataLoader__initialized': True, '_IterableDataset_len_called': None, '_iterator': None}\n"
          ],
          "name": "stdout"
        }
      ]
    },
    {
      "cell_type": "code",
      "metadata": {
        "id": "IYi1qnoJ36jV"
      },
      "source": [
        "import inspect\n",
        "models_ = []\n",
        "for name, obj in inspect.getmembers(models):\n",
        "    if inspect.isclass(obj) and inspect.getmodule(obj).__name__.split(\".\")[-1] == \"models\":\n",
        "        models_.append(obj)\n",
        "        # print (obj)\n",
        "# print(models.__dict__)"
      ],
      "execution_count": 20,
      "outputs": []
    },
    {
      "cell_type": "markdown",
      "metadata": {
        "id": "a20lKGS136jV"
      },
      "source": [
        "## Train model"
      ]
    },
    {
      "cell_type": "code",
      "metadata": {
        "id": "OCj92tyd36jW"
      },
      "source": [
        "def train_model(model):\n",
        "    losses = []\n",
        "    epochs = []\n",
        "    total_step = len(train_data)\n",
        "    with tqdm(total=num_epochs, file=sys.stdout) as pbar:\n",
        "      for epoch in range(num_epochs):\n",
        "        glloss = 0\n",
        "        for i, (images, labels) in enumerate(train_data):\n",
        "            # Place training batch onto the appropriate device\n",
        "            images = images.to(device)\n",
        "            labels = labels.to(device)\n",
        "\n",
        "            # Forward pass: compute predicted y by passing x to the model.\n",
        "            outputs = model(images)\n",
        "\n",
        "            # Compute loss.\n",
        "            loss = loss_function(outputs, labels)\n",
        "\n",
        "            # Before the backward pass, use the optimizer object to zero all of the\n",
        "            # gradients for the variables it will update (which are the learnable\n",
        "            # weights of the model). This is because by default, gradients are\n",
        "            # accumulated in buffers(i.e, not overwritten) whenever .backward()\n",
        "            # is called. Checkout docs of torch.autograd.backward for more details.\n",
        "            optimizer.zero_grad()\n",
        "            # Backward pass: compute gradient of the loss with respect to model parameters\n",
        "            loss.backward()\n",
        "            # Calling the step function on an Optimizer makes an update to its parameters\n",
        "            optimizer.step()\n",
        "\n",
        "            glloss = loss.item()\n",
        "            # if (i + 1) % 100 == 0:\n",
        "            #   print(\"glloss\")\n",
        "              # tqdm.write('\\nEpoch [{}/{}], Step [{}/{}], Loss: {:.4f}'.format(epoch + 1, num_epochs, i + 1, total_step, loss.item()))\n",
        "\n",
        "        # Save the model checkpoint\n",
        "        epochs.append(epoch + 1)\n",
        "        print(f\"Current epoch is {epoch + 1} current loss is {glloss}\")\n",
        "        pbar.update(1)\n",
        "        sleep(1)\n",
        "        losses.append(glloss)\n",
        "        torch.save(model.state_dict(), 'model.ckpt')\n",
        "\n",
        "    return losses, epochs"
      ],
      "execution_count": 175,
      "outputs": []
    },
    {
      "cell_type": "markdown",
      "metadata": {
        "id": "rfJhYs3236jW"
      },
      "source": [
        "## Evaluate model"
      ]
    },
    {
      "cell_type": "code",
      "metadata": {
        "id": "u5JK2xL236jW"
      },
      "source": [
        "def eval_model(model):\n",
        "    # Test the model\n",
        "    model.eval()  # eval mode (batchnorm uses moving mean/variance instead of mini-batch mean/variance; dropout disabled)\n",
        "    with torch.no_grad():\n",
        "        correct = 0\n",
        "        total = 0\n",
        "        for images, labels in test_data:\n",
        "            images = images.to(device)\n",
        "            labels = labels.to(device)\n",
        "\n",
        "            outputs = model(images)\n",
        "            _, predicted = torch.max(outputs.data, 1)\n",
        "\n",
        "            total += labels.size(0)\n",
        "            correct += (predicted == labels).sum().item()\n",
        "\n",
        "        print('Test Accuracy of the model on the {} test images: {} %'.format(len(test_data), 100 * correct / total))\n",
        "\n",
        "\n",
        "    # visualize_model(model, device, test_data, num_images=15,\n",
        "    #                 class_names=['airplane', 'automobile', 'bird', 'cat', 'deer', 'dog', 'frog', 'horse', 'ship', 'truck']\n",
        "    #                 )\n",
        "    # matplotlib.pyplot.waitforbuttonpress()"
      ],
      "execution_count": 183,
      "outputs": []
    },
    {
      "cell_type": "markdown",
      "metadata": {
        "id": "ABy46CBV36jX"
      },
      "source": [
        "## Pipeline"
      ]
    },
    {
      "cell_type": "code",
      "metadata": {
        "id": "h4W-FNnU36jX",
        "outputId": "0eff9da9-77a7-4668-d8a9-f081f27d2196",
        "colab": {
          "base_uri": "https://localhost:8080/",
          "height": 1000,
          "referenced_widgets": [
            "ec24e6766fba488e9a5a80c141249db1",
            "5f77fddab21c4a82906f294e6070abba",
            "8d8a25cb0dc1460db83d43a74c930137",
            "aeff18193bdf4bc782758f95ced37b6a",
            "a921f0f8170b40809a04e8d3afc9463f",
            "d3966a7f631e4024a87e471b1536647f",
            "a80aa8022b514d0aab983c55cff66187",
            "d90b4c43bfed4abeb10bb5f87201ad74"
          ]
        }
      },
      "source": [
        "import matplotlib.pyplot as plt\n",
        "\n",
        "for model in models_:\n",
        "    # print(f\"\\nCurrent model is {model.__name__}\")\n",
        "    model = model()\n",
        "    # print(model)\n",
        "    model.to(device)\n",
        "\n",
        "    loss_function = nn.CrossEntropyLoss()\n",
        "    # optimizer = torch.optim.Adam(model.parameters(), lr=learning_rate)\n",
        "    optimizer = torch.optim.AdamW(model.parameters(), lr=learning_rate)\n",
        "                                 \n",
        "    losses, epochs = train_model(model)\n",
        "    # print(losses)\n",
        "    plt.plot(epochs, losses)\n",
        "    eval_model(model)\n",
        "# optimizer = torch.optim.SGD(model.parameters(), lr=learning_rate, momentum=momentum)\n"
      ],
      "execution_count": 194,
      "outputs": [
        {
          "output_type": "display_data",
          "data": {
            "application/vnd.jupyter.widget-view+json": {
              "model_id": "ec24e6766fba488e9a5a80c141249db1",
              "version_minor": 0,
              "version_major": 2
            },
            "text/plain": [
              "HBox(children=(FloatProgress(value=0.0, max=90.0), HTML(value='')))"
            ]
          },
          "metadata": {
            "tags": []
          }
        },
        {
          "output_type": "stream",
          "text": [
            "Current epoch is 1 current loss is 0.9862702488899231\n",
            "Current epoch is 2 current loss is 0.9306883811950684\n",
            "Current epoch is 3 current loss is 0.8560452461242676\n",
            "Current epoch is 4 current loss is 0.7114583849906921\n",
            "Current epoch is 5 current loss is 0.9856897592544556\n",
            "Current epoch is 6 current loss is 0.8439309000968933\n",
            "Current epoch is 7 current loss is 0.5756446719169617\n",
            "Current epoch is 8 current loss is 0.4527130722999573\n",
            "Current epoch is 9 current loss is 0.4379842281341553\n",
            "Current epoch is 10 current loss is 0.8357052803039551\n",
            "Current epoch is 11 current loss is 0.5186491012573242\n",
            "Current epoch is 12 current loss is 0.594322919845581\n",
            "Current epoch is 13 current loss is 0.616470217704773\n",
            "Current epoch is 14 current loss is 0.8023201823234558\n",
            "Current epoch is 15 current loss is 0.5981191396713257\n",
            "Current epoch is 16 current loss is 0.7365468740463257\n",
            "Current epoch is 17 current loss is 0.4252590239048004\n",
            "Current epoch is 18 current loss is 0.4582740366458893\n",
            "Current epoch is 19 current loss is 0.5071367025375366\n",
            "Current epoch is 20 current loss is 0.17722734808921814\n",
            "Current epoch is 21 current loss is 0.3890536427497864\n",
            "Current epoch is 22 current loss is 0.44108453392982483\n",
            "Current epoch is 23 current loss is 0.29345980286598206\n",
            "Current epoch is 24 current loss is 0.37016743421554565\n",
            "Current epoch is 25 current loss is 0.3910514712333679\n",
            "Current epoch is 26 current loss is 0.45482325553894043\n",
            "Current epoch is 27 current loss is 0.32963329553604126\n",
            "Current epoch is 28 current loss is 0.2987291216850281\n",
            "Current epoch is 29 current loss is 0.4168930649757385\n",
            "Current epoch is 30 current loss is 0.31285861134529114\n",
            "Current epoch is 31 current loss is 0.3674001693725586\n",
            "Current epoch is 32 current loss is 0.41479888558387756\n",
            "Current epoch is 33 current loss is 0.32695525884628296\n",
            "Current epoch is 34 current loss is 0.3055739998817444\n",
            "Current epoch is 35 current loss is 0.4770357608795166\n",
            "Current epoch is 36 current loss is 0.31776559352874756\n",
            "Current epoch is 37 current loss is 0.2784457504749298\n",
            "Current epoch is 38 current loss is 0.37490972876548767\n",
            "Current epoch is 39 current loss is 0.41830945014953613\n",
            "Current epoch is 40 current loss is 0.316217303276062\n",
            "Current epoch is 41 current loss is 0.3719058632850647\n",
            "Current epoch is 42 current loss is 0.327914297580719\n",
            "Current epoch is 43 current loss is 0.26744338870048523\n",
            "Current epoch is 44 current loss is 0.3198270797729492\n",
            "Current epoch is 45 current loss is 0.30017268657684326\n",
            "Current epoch is 46 current loss is 0.1604703664779663\n",
            "Current epoch is 47 current loss is 0.28132233023643494\n",
            "Current epoch is 48 current loss is 0.2922782599925995\n",
            "Current epoch is 49 current loss is 0.3809818923473358\n",
            "Current epoch is 50 current loss is 0.30965930223464966\n",
            "Current epoch is 51 current loss is 0.3759203851222992\n",
            "Current epoch is 52 current loss is 0.22171704471111298\n",
            "Current epoch is 53 current loss is 0.31315916776657104\n",
            "Current epoch is 54 current loss is 0.29369986057281494\n",
            "Current epoch is 55 current loss is 0.22232258319854736\n",
            "Current epoch is 56 current loss is 0.20886507630348206\n",
            "Current epoch is 57 current loss is 0.26804250478744507\n",
            "Current epoch is 58 current loss is 0.24891206622123718\n",
            "Current epoch is 59 current loss is 0.26701265573501587\n",
            "Current epoch is 60 current loss is 0.18221415579319\n",
            "Current epoch is 61 current loss is 0.2811284065246582\n",
            "Current epoch is 62 current loss is 0.27969807386398315\n",
            "Current epoch is 63 current loss is 0.3203047811985016\n",
            "Current epoch is 64 current loss is 0.34993651509284973\n",
            "Current epoch is 65 current loss is 0.17770354449748993\n",
            "Current epoch is 66 current loss is 0.23505869507789612\n",
            "Current epoch is 67 current loss is 0.29845741391181946\n",
            "Current epoch is 68 current loss is 0.1276138722896576\n",
            "Current epoch is 69 current loss is 0.30619585514068604\n",
            "Current epoch is 70 current loss is 0.24092543125152588\n",
            "Current epoch is 71 current loss is 0.26845964789390564\n",
            "Current epoch is 72 current loss is 0.1502087116241455\n",
            "Current epoch is 73 current loss is 0.21630223095417023\n",
            "Current epoch is 74 current loss is 0.12692312896251678\n",
            "Current epoch is 75 current loss is 0.31463196873664856\n",
            "Current epoch is 76 current loss is 0.15675577521324158\n",
            "Current epoch is 77 current loss is 0.2225627899169922\n",
            "Current epoch is 78 current loss is 0.2134050875902176\n",
            "Current epoch is 79 current loss is 0.38553258776664734\n",
            "Current epoch is 80 current loss is 0.17806366086006165\n",
            "Current epoch is 81 current loss is 0.14297889173030853\n",
            "Current epoch is 82 current loss is 0.1880342662334442\n",
            "Current epoch is 83 current loss is 0.1407889425754547\n",
            "Current epoch is 84 current loss is 0.29870522022247314\n",
            "Current epoch is 85 current loss is 0.23751242458820343\n",
            "Current epoch is 86 current loss is 0.1393943876028061\n",
            "Current epoch is 87 current loss is 0.24476051330566406\n",
            "Current epoch is 88 current loss is 0.21514829993247986\n",
            "Current epoch is 89 current loss is 0.20712700486183167\n",
            "Current epoch is 90 current loss is 0.2114604413509369\n",
            "\n",
            "Test Accuracy of the model on the 40 test images: 86.41 %\n"
          ],
          "name": "stdout"
        },
        {
          "output_type": "display_data",
          "data": {
            "image/png": "[encoded data removed]",
            "text/plain": [
              "<Figure size 432x288 with 1 Axes>"
            ]
          },
          "metadata": {
            "tags": [],
            "needs_background": "light"
          }
        }
      ]
    },
    {
      "cell_type": "markdown",
      "metadata": {
        "id": "ZSISv63z36jY"
      },
      "source": [
        "78.66% - baseline\r\n",
        "\r\n",
        "84.85% - top\r\n",
        "\r\n",
        "86.09% - 70 iter\r\n",
        "\r\n",
        "86.42% - 90 iter"
      ]
    }
  ]
}